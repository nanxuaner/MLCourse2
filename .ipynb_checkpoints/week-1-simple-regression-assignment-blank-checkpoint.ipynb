{
 "cells": [
  {
   "cell_type": "markdown",
   "metadata": {},
   "source": [
    "# Regression Week 1: Simple Linear Regression"
   ]
  },
  {
   "cell_type": "markdown",
   "metadata": {},
   "source": [
    "In this notebook we will use data on house sales in King County to predict house prices using simple (one input) linear regression. You will:\n",
    "* Use graphlab SArray and SFrame functions to compute important summary statistics\n",
    "* Write a function to compute the Simple Linear Regression weights using the closed form solution\n",
    "* Write a function to make predictions of the output given the input feature\n",
    "* Turn the regression around to predict the input given the output\n",
    "* Compare two different models for predicting house prices\n",
    "\n",
    "In this notebook you will be provided with some already complete code as well as some code that you should complete yourself in order to answer quiz questions. The code we provide to complte is optional and is there to assist you with solving the problems but feel free to ignore the helper code and write your own."
   ]
  },
  {
   "cell_type": "markdown",
   "metadata": {},
   "source": [
    "# Fire up graphlab create"
   ]
  },
  {
   "cell_type": "code",
   "execution_count": 1,
   "metadata": {
    "collapsed": false
   },
   "outputs": [],
   "source": [
    "import graphlab"
   ]
  },
  {
   "cell_type": "markdown",
   "metadata": {},
   "source": [
    "# Load house sales data\n",
    "\n",
    "Dataset is from house sales in King County, the region where the city of Seattle, WA is located."
   ]
  },
  {
   "cell_type": "code",
   "execution_count": 2,
   "metadata": {
    "collapsed": false
   },
   "outputs": [
    {
     "name": "stdout",
     "output_type": "stream",
     "text": [
      "This non-commercial license of GraphLab Create for academic use is assigned to totanhy@gmail.com and will expire on August 01, 2017.\n"
     ]
    },
    {
     "name": "stderr",
     "output_type": "stream",
     "text": [
      "[INFO] graphlab.cython.cy_server: GraphLab Create v2.1 started. Logging: /tmp/graphlab_server_1471372651.log\n"
     ]
    }
   ],
   "source": [
    "sales = graphlab.SFrame('kc_house_data.gl/')"
   ]
  },
  {
   "cell_type": "markdown",
   "metadata": {},
   "source": [
    "# Split data into training and testing"
   ]
  },
  {
   "cell_type": "markdown",
   "metadata": {},
   "source": [
    "We use seed=0 so that everyone running this notebook gets the same results.  In practice, you may set a random seed (or let GraphLab Create pick a random seed for you).  "
   ]
  },
  {
   "cell_type": "code",
   "execution_count": 3,
   "metadata": {
    "collapsed": false
   },
   "outputs": [],
   "source": [
    "train_data,test_data = sales.random_split(.8,seed=0)"
   ]
  },
  {
   "cell_type": "markdown",
   "metadata": {},
   "source": [
    "# Useful SFrame summary functions"
   ]
  },
  {
   "cell_type": "markdown",
   "metadata": {},
   "source": [
    "In order to make use of the closed form solution as well as take advantage of graphlab's built in functions we will review some important ones. In particular:\n",
    "* Computing the sum of an SArray\n",
    "* Computing the arithmetic average (mean) of an SArray\n",
    "* multiplying SArrays by constants\n",
    "* multiplying SArrays by other SArrays"
   ]
  },
  {
   "cell_type": "code",
   "execution_count": 4,
   "metadata": {
    "collapsed": false
   },
   "outputs": [
    {
     "name": "stdout",
     "output_type": "stream",
     "text": [
      "average price via method 1: 540088.141905\n",
      "average price via method 2: 540088.141905\n"
     ]
    }
   ],
   "source": [
    "# Let's compute the mean of the House Prices in King County in 2 different ways.\n",
    "prices = sales['price'] # extract the price column of the sales SFrame -- this is now an SArray\n",
    "\n",
    "# recall that the arithmetic average (the mean) is the sum of the prices divided by the total number of houses:\n",
    "sum_prices = prices.sum()\n",
    "num_houses = prices.size() # when prices is an SArray .size() returns its length\n",
    "avg_price_1 = sum_prices/num_houses\n",
    "avg_price_2 = prices.mean() # if you just want the average, the .mean() function\n",
    "print \"average price via method 1: \" + str(avg_price_1)\n",
    "print \"average price via method 2: \" + str(avg_price_2)"
   ]
  },
  {
   "cell_type": "markdown",
   "metadata": {},
   "source": [
    "As we see we get the same answer both ways"
   ]
  },
  {
   "cell_type": "code",
   "execution_count": 5,
   "metadata": {
    "collapsed": false
   },
   "outputs": [
    {
     "name": "stdout",
     "output_type": "stream",
     "text": [
      "the sum of price squared is: 9.21732513355e+15\n"
     ]
    }
   ],
   "source": [
    "# if we want to multiply every price by 0.5 it's a simple as:\n",
    "half_prices = 0.5*prices\n",
    "# Let's compute the sum of squares of price. We can multiply two SArrays of the same length elementwise also with *\n",
    "prices_squared = prices*prices\n",
    "sum_prices_squared = prices_squared.sum() # price_squared is an SArray of the squares and we want to add them up.\n",
    "print \"the sum of price squared is: \" + str(sum_prices_squared)"
   ]
  },
  {
   "cell_type": "markdown",
   "metadata": {},
   "source": [
    "Aside: The python notation x.xxe+yy means x.xx \\* 10^(yy). e.g 100 = 10^2 = 1*10^2 = 1e2 "
   ]
  },
  {
   "cell_type": "markdown",
   "metadata": {},
   "source": [
    "# Build a generic simple linear regression function "
   ]
  },
  {
   "cell_type": "markdown",
   "metadata": {},
   "source": [
    "Armed with these SArray functions we can use the closed form solution found from lecture to compute the slope and intercept for a simple linear regression on observations stored as SArrays: input_feature, output.\n",
    "\n",
    "Complete the following function (or write your own) to compute the simple linear regression slope and intercept:"
   ]
  },
  {
   "cell_type": "code",
   "execution_count": 6,
   "metadata": {
    "collapsed": false
   },
   "outputs": [],
   "source": [
    "def simple_linear_regression(input_feature, output):\n",
    "    # compute the sum of input_feature and output\n",
    "    sum_input = input_feature.sum()\n",
    "    sum_output = output.sum()\n",
    "    num_input =input_feature.size()\n",
    "    # compute the product of the output and the input_feature and its sum\n",
    "    output_input = input_feature*output\n",
    "    sum_output_input = output_input.sum()\n",
    "    # compute the squared value of the input_feature and its sum\n",
    "    input_squared = input_feature*input_feature\n",
    "    sum_input_squared = input_squared.sum()\n",
    "    # use the formula for the slope\n",
    "    slope = (sum_output_input-(sum_output*sum_input)/num_input)/(sum_input_squared-(sum_input*sum_input)/num_input)\n",
    "    # use the formula for the intercept\n",
    "    intercept = sum_output/num_input - slope*sum_input/num_input\n",
    "    return (intercept, slope)"
   ]
  },
  {
   "cell_type": "markdown",
   "metadata": {},
   "source": [
    "We can test that our function works by passing it something where we know the answer. In particular we can generate a feature and then put the output exactly on a line: output = 1 + 1\\*input_feature then we know both our slope and intercept should be 1"
   ]
  },
  {
   "cell_type": "code",
   "execution_count": 8,
   "metadata": {
    "collapsed": false,
    "scrolled": true
   },
   "outputs": [
    {
     "name": "stdout",
     "output_type": "stream",
     "text": [
      "Intercept: 3\n",
      "Slope: 5\n"
     ]
    }
   ],
   "source": [
    "test_feature = graphlab.SArray(range(5))\n",
    "test_output = graphlab.SArray(3 + 5*test_feature)\n",
    "(test_intercept, test_slope) =  simple_linear_regression(test_feature, test_output)\n",
    "print \"Intercept: \" + str(test_intercept)\n",
    "print \"Slope: \" + str(test_slope)"
   ]
  },
  {
   "cell_type": "markdown",
   "metadata": {},
   "source": [
    "Now that we know it works let's build a regression model for predicting price based on sqft_living. Rembember that we train on train_data!"
   ]
  },
  {
   "cell_type": "code",
   "execution_count": 9,
   "metadata": {
    "collapsed": false
   },
   "outputs": [
    {
     "name": "stdout",
     "output_type": "stream",
     "text": [
      "Intercept: -47116.0765749\n",
      "Slope: 281.958838568\n"
     ]
    }
   ],
   "source": [
    "sqft_intercept, sqft_slope = simple_linear_regression(train_data['sqft_living'], train_data['price'])\n",
    "\n",
    "print \"Intercept: \" + str(sqft_intercept)\n",
    "print \"Slope: \" + str(sqft_slope)"
   ]
  },
  {
   "cell_type": "markdown",
   "metadata": {},
   "source": [
    "# Predicting Values"
   ]
  },
  {
   "cell_type": "markdown",
   "metadata": {},
   "source": [
    "Now that we have the model parameters: intercept & slope we can make predictions. Using SArrays it's easy to multiply an SArray by a constant and add a constant value. Complete the following function to return the predicted output given the input_feature, slope and intercept:"
   ]
  },
  {
   "cell_type": "code",
   "execution_count": 10,
   "metadata": {
    "collapsed": false
   },
   "outputs": [],
   "source": [
    "def get_regression_predictions(input_feature, intercept, slope):\n",
    "    # calculate the predicted values:\n",
    "    predicted_values = intercept + slope*input_feature\n",
    "    return predicted_values"
   ]
  },
  {
   "cell_type": "markdown",
   "metadata": {},
   "source": [
    "Now that we can calculate a prediction given the slope and intercept let's make a prediction. Use (or alter) the following to find out the estimated price for a house with 2650 squarefeet according to the squarefeet model we estiamted above.\n",
    "\n",
    "**Quiz Question: Using your Slope and Intercept from (4), What is the predicted price for a house with 2650 sqft?**"
   ]
  },
  {
   "cell_type": "code",
   "execution_count": 11,
   "metadata": {
    "collapsed": false
   },
   "outputs": [
    {
     "name": "stdout",
     "output_type": "stream",
     "text": [
      "The estimated price for a house with 2650 squarefeet is $700074.85\n"
     ]
    }
   ],
   "source": [
    "my_house_sqft = 2650\n",
    "estimated_price = get_regression_predictions(my_house_sqft, sqft_intercept, sqft_slope)\n",
    "print \"The estimated price for a house with %d squarefeet is $%.2f\" % (my_house_sqft, estimated_price)"
   ]
  },
  {
   "cell_type": "markdown",
   "metadata": {},
   "source": [
    "# Residual Sum of Squares"
   ]
  },
  {
   "cell_type": "markdown",
   "metadata": {},
   "source": [
    "Now that we have a model and can make predictions let's evaluate our model using Residual Sum of Squares (RSS). Recall that RSS is the sum of the squares of the residuals and the residuals is just a fancy word for the difference between the predicted output and the true output. \n",
    "\n",
    "Complete the following (or write your own) function to compute the RSS of a simple linear regression model given the input_feature, output, intercept and slope:"
   ]
  },
  {
   "cell_type": "code",
   "execution_count": 12,
   "metadata": {
    "collapsed": true
   },
   "outputs": [],
   "source": [
    "def get_residual_sum_of_squares(input_feature, output, intercept, slope):\n",
    "    # First get the predictions\n",
    "    predicted_values = intercept + slope*input_feature\n",
    "    # then compute the residuals (since we are squaring it doesn't matter which order you subtract)\n",
    "    residuals = output - predicted_values\n",
    "    # square the residuals and add them up\n",
    "    residuals_square = residuals*residuals\n",
    "    RSS = residuals_square.sum()\n",
    "    return(RSS)"
   ]
  },
  {
   "cell_type": "markdown",
   "metadata": {},
   "source": [
    "Let's test our get_residual_sum_of_squares function by applying it to the test model where the data lie exactly on a line. Since they lie exactly on a line the residual sum of squares should be zero!"
   ]
  },
  {
   "cell_type": "code",
   "execution_count": 13,
   "metadata": {
    "collapsed": false
   },
   "outputs": [
    {
     "name": "stdout",
     "output_type": "stream",
     "text": [
      "0\n"
     ]
    }
   ],
   "source": [
    "print get_residual_sum_of_squares(test_feature, test_output, test_intercept, test_slope) # should be 0.0"
   ]
  },
  {
   "cell_type": "markdown",
   "metadata": {},
   "source": [
    "Now use your function to calculate the RSS on training data from the squarefeet model calculated above.\n",
    "\n",
    "**Quiz Question: According to this function and the slope and intercept from the squarefeet model What is the RSS for the simple linear regression using squarefeet to predict prices on TRAINING data?**"
   ]
  },
  {
   "cell_type": "code",
   "execution_count": 14,
   "metadata": {
    "collapsed": false
   },
   "outputs": [
    {
     "name": "stdout",
     "output_type": "stream",
     "text": [
      "The RSS of predicting Prices based on Square Feet is : 1.20191835632e+15\n"
     ]
    }
   ],
   "source": [
    "rss_prices_on_sqft = get_residual_sum_of_squares(train_data['sqft_living'], train_data['price'], sqft_intercept, sqft_slope)\n",
    "print 'The RSS of predicting Prices based on Square Feet is : ' + str(rss_prices_on_sqft)"
   ]
  },
  {
   "cell_type": "markdown",
   "metadata": {},
   "source": [
    "# Predict the squarefeet given price"
   ]
  },
  {
   "cell_type": "markdown",
   "metadata": {},
   "source": [
    "What if we want to predict the squarefoot given the price? Since we have an equation y = a + b\\*x we can solve the function for x. So that if we have the intercept (a) and the slope (b) and the price (y) we can solve for the estimated squarefeet (x).\n",
    "\n",
    "Comlplete the following function to compute the inverse regression estimate, i.e. predict the input_feature given the output!"
   ]
  },
  {
   "cell_type": "code",
   "execution_count": 15,
   "metadata": {
    "collapsed": true
   },
   "outputs": [],
   "source": [
    "def inverse_regression_predictions(output, intercept, slope):\n",
    "    # solve output = intercept + slope*input_feature for input_feature. Use this equation to compute the inverse predictions:\n",
    "    estimated_feature = (output - intercept)/slope\n",
    "    return estimated_feature"
   ]
  },
  {
   "cell_type": "markdown",
   "metadata": {},
   "source": [
    "Now that we have a function to compute the squarefeet given the price from our simple regression model let's see how big we might expect a house that costs $800,000 to be.\n",
    "\n",
    "**Quiz Question: According to this function and the regression slope and intercept from (3) what is the estimated square-feet for a house costing $800,000?**"
   ]
  },
  {
   "cell_type": "code",
   "execution_count": 16,
   "metadata": {
    "collapsed": false
   },
   "outputs": [
    {
     "name": "stdout",
     "output_type": "stream",
     "text": [
      "The estimated squarefeet for a house worth $800000.00 is 3004\n"
     ]
    }
   ],
   "source": [
    "my_house_price = 800000\n",
    "estimated_squarefeet = inverse_regression_predictions(my_house_price, sqft_intercept, sqft_slope)\n",
    "print \"The estimated squarefeet for a house worth $%.2f is %d\" % (my_house_price, estimated_squarefeet)"
   ]
  },
  {
   "cell_type": "markdown",
   "metadata": {},
   "source": [
    "# New Model: estimate prices from bedrooms"
   ]
  },
  {
   "cell_type": "markdown",
   "metadata": {},
   "source": [
    "We have made one model for predicting house prices using squarefeet, but there are many other features in the sales SFrame. \n",
    "Use your simple linear regression function to estimate the regression parameters from predicting Prices based on number of bedrooms. Use the training data!"
   ]
  },
  {
   "cell_type": "code",
   "execution_count": 17,
   "metadata": {
    "collapsed": false
   },
   "outputs": [
    {
     "name": "stdout",
     "output_type": "stream",
     "text": [
      "Intercept: 109473.180469\n",
      "Slope: 127588.952175\n"
     ]
    }
   ],
   "source": [
    "# Estimate the slope and intercept for predicting 'price' based on 'bedrooms'\n",
    "bedrooms_intercept, bedrooms_slope = simple_linear_regression(train_data['bedrooms'], train_data['price'])\n",
    "\n",
    "print \"Intercept: \" + str(bedrooms_intercept)\n",
    "print \"Slope: \" + str(bedrooms_slope)"
   ]
  },
  {
   "cell_type": "markdown",
   "metadata": {},
   "source": [
    "# Test your Linear Regression Algorithm"
   ]
  },
  {
   "cell_type": "markdown",
   "metadata": {},
   "source": [
    "Now we have two models for predicting the price of a house. How do we know which one is better? Calculate the RSS on the TEST data (remember this data wasn't involved in learning the model). Compute the RSS from predicting prices using bedrooms and from predicting prices using squarefeet.\n",
    "\n",
    "**Quiz Question: Which model (square feet or bedrooms) has lowest RSS on TEST data? Think about why this might be the case.**"
   ]
  },
  {
   "cell_type": "code",
   "execution_count": 18,
   "metadata": {
    "collapsed": false
   },
   "outputs": [
    {
     "name": "stdout",
     "output_type": "stream",
     "text": [
      "The RSS of predicting Prices based on bedrooms on test data is : 4.93364582868e+14\n"
     ]
    }
   ],
   "source": [
    "# Compute RSS when using bedrooms on TEST data:\n",
    "rss_prices_on_bedrooms_test_data = get_residual_sum_of_squares(test_data['bedrooms'], test_data['price'], bedrooms_intercept, bedrooms_slope)\n",
    "print 'The RSS of predicting Prices based on bedrooms on test data is : ' + str(rss_prices_on_bedrooms_test_data)"
   ]
  },
  {
   "cell_type": "code",
   "execution_count": 19,
   "metadata": {
    "collapsed": false
   },
   "outputs": [
    {
     "name": "stdout",
     "output_type": "stream",
     "text": [
      "The RSS of predicting Prices based on Square Feet on test data is : 2.75402936247e+14\n"
     ]
    }
   ],
   "source": [
    "# Compute RSS when using squarefeet on TEST data:\n",
    "rss_prices_on_sqft_test_data = get_residual_sum_of_squares(test_data['sqft_living'], test_data['price'], sqft_intercept, sqft_slope)\n",
    "print 'The RSS of predicting Prices based on Square Feet on test data is : ' + str(rss_prices_on_sqft_test_data)"
   ]
  },
  {
   "cell_type": "code",
   "execution_count": 22,
   "metadata": {
    "collapsed": false
   },
   "outputs": [
    {
     "data": {
      "application/javascript": [
       "$(\"head\").append($(\"<link/>\").attr({\n",
       "  rel:  \"stylesheet\",\n",
       "  type: \"text/css\",\n",
       "  href: \"//cdnjs.cloudflare.com/ajax/libs/font-awesome/4.1.0/css/font-awesome.min.css\"\n",
       "}));\n",
       "$(\"head\").append($(\"<link/>\").attr({\n",
       "  rel:  \"stylesheet\",\n",
       "  type: \"text/css\",\n",
       "  href: \"https://static.turi.com/products/graphlab-create/2.1/canvas/css/canvas.css\"\n",
       "}));\n",
       "\n",
       "            (function(){\n",
       "\n",
       "                var e = null;\n",
       "                if (typeof element == 'undefined') {\n",
       "                    var scripts = document.getElementsByTagName('script');\n",
       "                    var thisScriptTag = scripts[scripts.length-1];\n",
       "                    var parentDiv = thisScriptTag.parentNode;\n",
       "                    e = document.createElement('div');\n",
       "                    parentDiv.appendChild(e);\n",
       "                } else {\n",
       "                    e = element[0];\n",
       "                }\n",
       "\n",
       "                if (typeof requirejs !== 'undefined') {\n",
       "                    // disable load timeout; ipython_app.js is large and can take a while to load.\n",
       "                    requirejs.config({waitSeconds: 0});\n",
       "                }\n",
       "\n",
       "                require(['https://static.turi.com/products/graphlab-create/2.1/canvas/js/ipython_app.js'], function(IPythonApp){\n",
       "                    var app = new IPythonApp();\n",
       "                    app.attachView('sframe','Plots', {\"selected_variable\": {\"name\": [\"test_data\"], \"descriptives\": {\"rows\": 4229, \"columns\": 21}, \"view_component\": \"Plots\", \"view_file\": \"sframe\", \"view_params\": {\"y\": \"price\", \"x\": \"bedrooms\", \"columns\": [\"id\", \"date\", \"price\", \"bedrooms\", \"bathrooms\", \"sqft_living\", \"sqft_lot\", \"floors\", \"waterfront\", \"view\", \"condition\", \"grade\", \"sqft_above\", \"sqft_basement\", \"yr_built\", \"yr_renovated\", \"zipcode\", \"lat\", \"long\", \"sqft_living15\", \"sqft_lot15\"], \"view\": \"Scatter Plot\"}, \"view_components\": [\"Summary\", \"Table\", \"Bar Chart\", \"BoxWhisker Plot\", \"Line Chart\", \"Scatter Plot\", \"Heat Map\", \"Plots\"], \"type\": \"SFrame\", \"columns\": [{\"dtype\": \"str\", \"name\": \"id\"}, {\"dtype\": \"datetime\", \"name\": \"date\"}, {\"dtype\": \"float\", \"name\": \"price\"}, {\"dtype\": \"float\", \"name\": \"bedrooms\"}, {\"dtype\": \"float\", \"name\": \"bathrooms\"}, {\"dtype\": \"float\", \"name\": \"sqft_living\"}, {\"dtype\": \"int\", \"name\": \"sqft_lot\"}, {\"dtype\": \"str\", \"name\": \"floors\"}, {\"dtype\": \"int\", \"name\": \"waterfront\"}, {\"dtype\": \"int\", \"name\": \"view\"}, {\"dtype\": \"int\", \"name\": \"condition\"}, {\"dtype\": \"int\", \"name\": \"grade\"}, {\"dtype\": \"int\", \"name\": \"sqft_above\"}, {\"dtype\": \"int\", \"name\": \"sqft_basement\"}, {\"dtype\": \"int\", \"name\": \"yr_built\"}, {\"dtype\": \"int\", \"name\": \"yr_renovated\"}, {\"dtype\": \"str\", \"name\": \"zipcode\"}, {\"dtype\": \"float\", \"name\": \"lat\"}, {\"dtype\": \"float\", \"name\": \"long\"}, {\"dtype\": \"float\", \"name\": \"sqft_living15\"}, {\"dtype\": \"float\", \"name\": \"sqft_lot15\"}], \"column_identifiers\": [\"bathrooms\", \"sqft_living15\", \"sqft_above\", \"grade\", \"yr_built\", \"price\", \"bedrooms\", \"zipcode\", \"long\", \"id\", \"sqft_lot15\", \"sqft_living\", \"floors\", \"sqft_lot\", \"date\", \"waterfront\", \"sqft_basement\", \"yr_renovated\", \"lat\", \"condition\", \"view\"]}, \"complete\": 1, \"ipython\": true, \"progress\": 1.0, \"data\": [[4.0, 420000.0], [2.0, 198000.0], [3.0, 580000.0], [4.0, 275000.0], [3.0, 535000.0], [4.0, 925900.0], [2.0, 265000.0], [4.0, 292500.0], [3.0, 539000.0], [3.0, 389000.0], [4.0, 785000.0], [2.0, 239000.0], [2.0, 546000.0], [3.0, 247500.0], [3.0, 650000.0], [3.0, 279000.0], [2.0, 532500.0], [3.0, 519950.0], [5.0, 527700.0], [3.0, 420000.0], [3.0, 510000.0], [3.0, 425000.0], [3.0, 643002.0], [1.0, 152275.0], [4.0, 835000.0], [3.0, 680000.0], [4.0, 304500.0], [4.0, 427000.0], [3.0, 260000.0], [3.0, 297000.0], [5.0, 745000.0], [3.0, 230000.0], [4.0, 616000.0], [3.0, 887000.0], [3.0, 772000.0], [4.0, 377000.0], [4.0, 206000.0], [4.0, 481000.0], [3.0, 215000.0], [2.0, 350000.0], [2.0, 499950.0], [1.0, 369900.0], [4.0, 449950.0], [4.0, 485000.0], [4.0, 810000.0], [3.0, 319000.0], [4.0, 255950.0], [3.0, 338900.0], [3.0, 463000.0], [2.0, 640000.0], [4.0, 980000.0], [4.0, 647500.0], [5.0, 1200000.0], [4.0, 1400000.0], [3.0, 745000.0], [4.0, 688000.0], [3.0, 230000.0], [2.0, 217000.0], [5.0, 400000.0], [4.0, 440000.0], [3.0, 180000.0], [4.0, 1200000.0], [5.0, 450000.0], [3.0, 425000.0], [4.0, 552250.0], [4.0, 610000.0], [3.0, 565000.0], [4.0, 855000.0], [2.0, 350000.0], [4.0, 700000.0], [4.0, 849000.0], [3.0, 260000.0], [3.0, 540000.0], [4.0, 315000.0], [3.0, 450000.0], [4.0, 279950.0], [3.0, 214950.0], [3.0, 261000.0], [5.0, 560000.0], [4.0, 927000.0], [3.0, 465000.0], [4.0, 555000.0], [2.0, 285000.0], [3.0, 438000.0], [3.0, 497000.0], [3.0, 680000.0], [4.0, 367300.0], [3.0, 670000.0], [3.0, 1300000.0], [4.0, 988000.0], [4.0, 1000000.0], [6.0, 525000.0], [3.0, 360000.0], [4.0, 396800.0], [3.0, 255000.0], [3.0, 314950.0], [3.0, 240000.0], [3.0, 340500.0], [3.0, 515000.0], [3.0, 740000.0], [3.0, 247800.0], [4.0, 452000.0], [5.0, 1000000.0], [4.0, 725000.0], [4.0, 500000.0], [3.0, 410000.0], [2.0, 240000.0], [4.0, 820000.0], [4.0, 2250000.0], [3.0, 277000.0], [6.0, 1600000.0], [3.0, 204000.0], [4.0, 796000.0], [4.0, 346900.0], [3.0, 520000.0], [3.0, 319000.0], [3.0, 273000.0], [5.0, 406550.0], [3.0, 291000.0], [3.0, 610000.0], [3.0, 425000.0], [3.0, 240000.0], [4.0, 530000.0], [2.0, 483000.0], [3.0, 405000.0], [3.0, 435000.0], [3.0, 595000.0], [4.0, 1220000.0], [4.0, 1080000.0], [4.0, 697000.0], [2.0, 285000.0], [4.0, 1481000.0], [3.0, 415000.0], [2.0, 289000.0], [3.0, 319950.0], [4.0, 521000.0], [5.0, 525126.0], [2.0, 301500.0], [3.0, 405000.0], [3.0, 230500.0], [4.0, 480000.0], [4.0, 865000.0], [4.0, 2950000.0], [2.0, 399000.0], [3.0, 435000.0], [3.0, 315000.0], [3.0, 105000.0], [4.0, 700000.0], [2.0, 545000.0], [3.0, 322500.0], [3.0, 289275.0], [2.0, 245000.0], [3.0, 405000.0], [4.0, 985000.0], [3.0, 501000.0], [4.0, 825000.0], [3.0, 605000.0], [5.0, 425000.0], [4.0, 500000.0], [3.0, 950000.0], [2.0, 1310000.0], [4.0, 856600.0], [3.0, 330000.0], [4.0, 985000.0], [3.0, 390000.0], [3.0, 420000.0], [4.0, 650000.0], [4.0, 460000.0], [4.0, 600000.0], [4.0, 760000.0], [3.0, 422120.0], [5.0, 625000.0], [4.0, 790000.0], [5.0, 320900.0], [3.0, 310000.0], [4.0, 485000.0], [3.0, 410000.0], [3.0, 320000.0], [3.0, 285000.0], [3.0, 166600.0], [3.0, 246950.0], [3.0, 510250.0], [3.0, 635250.0], [3.0, 720000.0], [4.0, 930000.0], [5.0, 424950.0], [5.0, 875000.0], [3.0, 542000.0], [3.0, 209000.0], [3.0, 195000.0], [3.0, 438000.0], [4.0, 864000.0], [4.0, 561600.0], [5.0, 655000.0], [3.0, 253000.0], [4.0, 657000.0], [4.0, 260000.0], [4.0, 210000.0], [3.0, 565000.0], [3.0, 1450000.0], [3.0, 255000.0], [3.0, 253000.0], [3.0, 894400.0], [3.0, 399950.0], [4.0, 460000.0], [3.0, 219950.0], [4.0, 587000.0], [3.0, 819000.0], [5.0, 575000.0], [2.0, 218500.0], [4.0, 455000.0], [2.0, 335900.0], [4.0, 600000.0], [4.0, 460000.0], [4.0, 751000.0], [6.0, 359500.0], [3.0, 550000.0], [4.0, 875000.0], [3.0, 368000.0], [5.0, 1138990.0], [4.0, 208000.0], [5.0, 384000.0], [3.0, 420000.0], [3.0, 425000.0], [2.0, 285000.0], [3.0, 195000.0], [3.0, 770000.0], [2.0, 246500.0], [5.0, 1236300.0], [5.0, 850000.0], [3.0, 280017.0], [3.0, 550000.0], [5.0, 272000.0], [2.0, 175000.0], [3.0, 615000.0], [3.0, 249000.0], [2.0, 150000.0], [3.0, 355000.0], [3.0, 749950.0], [3.0, 516200.0], [6.0, 384000.0], [4.0, 650000.0], [4.0, 1415000.0], [2.0, 585000.0], [5.0, 870000.0], [4.0, 357000.0], [5.0, 357000.0], [3.0, 685000.0], [4.0, 525000.0], [2.0, 429000.0], [3.0, 347000.0], [3.0, 515000.0], [4.0, 330000.0], [3.0, 320000.0], [3.0, 280000.0], [5.0, 1250000.0], [2.0, 440000.0], [5.0, 950968.0], [4.0, 879900.0], [4.0, 410500.0], [4.0, 780000.0], [3.0, 546000.0], [1.0, 325000.0], [2.0, 421000.0], [3.0, 337500.0], [4.0, 630000.0], [3.0, 325000.0], [4.0, 433000.0], [4.0, 895000.0], [4.0, 530000.0], [3.0, 400000.0], [5.0, 619000.0], [4.0, 765000.0], [4.0, 1200000.0], [4.0, 799950.0], [3.0, 567500.0], [3.0, 315000.0], [5.0, 1065000.0], [5.0, 729953.0], [4.0, 311000.0], [4.0, 365000.0], [3.0, 303700.0], [3.0, 521900.0], [4.0, 297000.0], [4.0, 597000.0], [4.0, 503000.0], [3.0, 475000.0], [4.0, 1062500.0], [3.0, 415000.0], [5.0, 600000.0], [4.0, 320000.0], [3.0, 320900.0], [4.0, 3395000.0], [3.0, 295000.0], [4.0, 490000.0], [2.0, 340895.0], [5.0, 950000.0], [3.0, 315000.0], [3.0, 325500.0], [1.0, 245000.0], [2.0, 215000.0], [3.0, 415000.0], [2.0, 225000.0], [3.0, 550000.0], [3.0, 335000.0], [4.0, 700000.0], [2.0, 216000.0], [3.0, 425000.0], [3.0, 1186039.0], [4.0, 442000.0], [3.0, 432900.0], [5.0, 999000.0], [3.0, 705000.0], [3.0, 175000.0], [3.0, 375000.0], [4.0, 725000.0], [2.0, 505000.0], [4.0, 645000.0], [3.0, 238000.0], [3.0, 434500.0], [4.0, 420000.0], [3.0, 330000.0], [3.0, 295000.0], [2.0, 430000.0], [4.0, 240000.0], [2.0, 332000.0], [3.0, 259000.0], [4.0, 815000.0], [4.0, 305000.0], [3.0, 406100.0], [3.0, 464000.0], [2.0, 451101.0], [3.0, 895000.0], [3.0, 267500.0], [4.0, 456000.0], [3.0, 575000.0], [3.0, 535500.0], [3.0, 438000.0], [3.0, 535000.0], [5.0, 561750.0], [3.0, 437500.0], [5.0, 875000.0], [3.0, 365000.0], [3.0, 315000.0], [3.0, 299000.0], [4.0, 474905.0], [3.0, 1387800.0], [1.0, 525000.0], [2.0, 440000.0], [3.0, 340000.0], [2.0, 281000.0], [2.0, 303000.0], [3.0, 340000.0], [5.0, 440000.0], [3.0, 645000.0], [4.0, 675000.0], [2.0, 360000.0], [3.0, 200000.0], [4.0, 231000.0], [4.0, 420000.0], [3.0, 321000.0], [4.0, 360000.0], [3.0, 365000.0], [3.0, 479950.0], [2.0, 215500.0], [3.0, 225000.0], [4.0, 335000.0], [2.0, 441750.0], [4.0, 870515.0], [3.0, 480000.0], [2.0, 415000.0], [2.0, 350000.0], [2.0, 501000.0], [3.0, 249000.0], [2.0, 469000.0], [4.0, 1525000.0], [2.0, 575000.0], [4.0, 841000.0], [4.0, 808000.0], [4.0, 500000.0], [2.0, 465000.0], [3.0, 625000.0], [3.0, 250000.0], [4.0, 590000.0], [7.0, 727160.0], [1.0, 227000.0], [3.0, 835000.0], [4.0, 920000.0], [3.0, 325000.0], [3.0, 260000.0], [5.0, 740000.0], [3.0, 448000.0], [4.0, 690000.0], [4.0, 1249000.0], [3.0, 740000.0], [3.0, 567500.0], [3.0, 252000.0], [4.0, 800000.0], [3.0, 725000.0], [3.0, 475000.0], [3.0, 260000.0], [3.0, 348580.0], [3.0, 775000.0], [3.0, 565000.0], [3.0, 245000.0], [4.0, 620047.0], [4.0, 762500.0], [3.0, 760000.0], [2.0, 370000.0], [3.0, 699000.0], [4.0, 350000.0], [2.0, 360000.0], [3.0, 327000.0], [4.0, 595000.0], [3.0, 1568000.0], [3.0, 318000.0], [3.0, 195000.0], [4.0, 782000.0], [4.0, 349000.0], [3.0, 450000.0], [4.0, 440000.0], [4.0, 490000.0], [4.0, 276693.0], [6.0, 767500.0], [4.0, 648360.0], [5.0, 649000.0], [3.0, 541900.0], [4.0, 805000.0], [3.0, 315000.0], [4.0, 339888.0], [4.0, 870000.0], [5.0, 500000.0], [3.0, 365000.0], [3.0, 390000.0], [4.0, 374000.0], [3.0, 530000.0], [3.0, 655000.0], [4.0, 515000.0], [2.0, 415000.0], [4.0, 579000.0], [2.0, 225000.0], [4.0, 530000.0], [3.0, 370000.0], [3.0, 128750.0], [4.0, 728725.0], [3.0, 225000.0], [3.0, 395000.0], [3.0, 390000.0], [3.0, 275000.0], [3.0, 665000.0], [4.0, 2065000.0], [3.0, 260000.0], [3.0, 525000.0], [2.0, 468000.0], [3.0, 344950.0], [4.0, 475000.0], [2.0, 312500.0], [3.0, 660000.0], [4.0, 600000.0], [3.0, 275000.0], [2.0, 550500.0], [3.0, 322500.0], [4.0, 993000.0], [3.0, 716000.0], [4.0, 763000.0], [4.0, 446500.0], [3.0, 283000.0], [5.0, 262500.0], [4.0, 465000.0], [4.0, 625000.0], [3.0, 618000.0], [3.0, 415000.0], [2.0, 535000.0], [3.0, 1101000.0], [4.0, 215000.0], [4.0, 465000.0], [4.0, 1583000.0], [3.0, 592000.0], [3.0, 390000.0], [4.0, 280000.0], [4.0, 335000.0], [3.0, 625000.0], [5.0, 393000.0], [6.0, 487000.0], [3.0, 427000.0], [3.0, 314950.0], [3.0, 425000.0], [3.0, 340000.0], [3.0, 680000.0], [4.0, 955000.0], [3.0, 395000.0], [4.0, 355950.0], [3.0, 376500.0], [3.0, 485000.0], [2.0, 510000.0], [3.0, 599995.0], [3.0, 450000.0], [3.0, 1220000.0], [3.0, 604000.0], [2.0, 457000.0], [6.0, 585000.0], [3.0, 411715.0], [2.0, 440000.0], [3.0, 285000.0], [3.0, 390000.0], [3.0, 269000.0], [4.0, 563950.0], [3.0, 885000.0], [3.0, 505000.0], [4.0, 490000.0], [3.0, 450000.0], [3.0, 570000.0], [4.0, 1100000.0], [3.0, 785000.0], [4.0, 269950.0], [4.0, 1619999.0], [4.0, 1650000.0], [4.0, 387500.0], [5.0, 332000.0], [6.0, 240000.0], [3.0, 665000.0], [3.0, 375000.0], [3.0, 220000.0], [3.0, 525000.0], [5.0, 1010000.0], [2.0, 320000.0], [2.0, 381500.0], [4.0, 1120275.0], [3.0, 1165000.0], [2.0, 183000.0], [3.0, 395000.0], [3.0, 300000.0], [2.0, 320000.0], [3.0, 450000.0], [3.0, 554600.0], [3.0, 469950.0], [3.0, 345000.0], [4.0, 523000.0], [4.0, 356500.0], [2.0, 102500.0], [6.0, 470000.0], [2.0, 275000.0], [4.0, 289950.0], [5.0, 361000.0], [2.0, 780000.0], [4.0, 490000.0], [4.0, 454450.0], [4.0, 298500.0], [3.0, 335620.0], [4.0, 1030000.0], [4.0, 279000.0], [4.0, 535000.0], [4.0, 409000.0], [4.0, 139000.0], [3.0, 660000.0], [3.0, 1500000.0], [3.0, 472217.0], [5.0, 420000.0], [3.0, 86500.0], [4.0, 711000.0], [2.0, 700000.0], [3.0, 459950.0], [3.0, 485000.0], [4.0, 900000.0], [2.0, 388000.0], [4.0, 920000.0], [3.0, 388500.0], [3.0, 215000.0], [3.0, 720000.0], [3.0, 165000.0], [3.0, 206000.0], [4.0, 450000.0], [3.0, 322000.0], [33.0, 640000.0], [3.0, 335000.0], [3.0, 358500.0], [3.0, 267000.0], [2.0, 342000.0], [4.0, 250000.0], [3.0, 180000.0], [3.0, 257500.0], [3.0, 311000.0], [3.0, 390000.0], [2.0, 515000.0], [5.0, 719950.0], [3.0, 455000.0], [3.0, 455850.0], [5.0, 805000.0], [3.0, 338950.0], [3.0, 799000.0], [4.0, 1364000.0], [3.0, 960000.0], [2.0, 320000.0], [3.0, 465000.0], [5.0, 250750.0], [2.0, 335000.0], [3.0, 552775.0], [3.0, 210000.0], [2.0, 700000.0], [4.0, 609000.0], [4.0, 449950.0], [3.0, 590000.0], [3.0, 733500.0], [2.0, 195000.0], [3.0, 209950.0], [5.0, 745000.0], [3.0, 200450.0], [2.0, 290000.0], [4.0, 367000.0], [2.0, 998160.0], [3.0, 769950.0], [4.0, 790000.0], [4.0, 595000.0], [4.0, 200000.0], [3.0, 329500.0], [4.0, 907687.0], [2.0, 615000.0], [3.0, 158800.0], [3.0, 483500.0], [3.0, 240000.0], [3.0, 759000.0], [2.0, 275000.0], [2.0, 450000.0], [2.0, 190000.0], [5.0, 1375000.0], [4.0, 391000.0], [2.0, 325000.0], [4.0, 520000.0], [4.0, 599950.0], [2.0, 304000.0], [4.0, 429900.0], [4.0, 715000.0], [3.0, 137900.0], [4.0, 584999.0], [3.0, 393500.0], [2.0, 342888.0], [3.0, 535000.0], [3.0, 551000.0], [4.0, 552900.0], [2.0, 529500.0], [3.0, 345000.0], [3.0, 485000.0], [1.0, 439000.0], [4.0, 252500.0], [3.0, 418000.0], [4.0, 410000.0], [4.0, 657100.0], [3.0, 507250.0], [6.0, 1150000.0], [3.0, 605000.0], [4.0, 890000.0], [4.0, 1580000.0], [3.0, 555000.0], [4.0, 489000.0], [4.0, 994900.0], [3.0, 780000.0], [3.0, 208000.0], [4.0, 1100000.0], [3.0, 295000.0], [3.0, 350000.0], [4.0, 483000.0], [4.0, 372500.0], [3.0, 560000.0], [4.0, 318500.0], [2.0, 403250.0], [4.0, 685000.0], [4.0, 360000.0], [5.0, 918000.0], [4.0, 679000.0], [4.0, 695000.0], [4.0, 605000.0], [3.0, 509900.0], [4.0, 970000.0], [2.0, 579000.0], [2.0, 208000.0], [4.0, 756000.0], [4.0, 1570000.0], [2.0, 390000.0], [4.0, 327000.0], [3.0, 475000.0], [3.0, 315000.0], [3.0, 469900.0], [5.0, 847700.0], [2.0, 546000.0], [3.0, 419600.0], [4.0, 1250000.0], [3.0, 665000.0], [4.0, 520000.0], [4.0, 383000.0], [3.0, 330000.0], [3.0, 280000.0], [3.0, 266000.0], [3.0, 629000.0], [4.0, 697000.0], [3.0, 289950.0], [4.0, 505000.0], [3.0, 445000.0], [5.0, 1380000.0], [4.0, 1350000.0], [4.0, 1250000.0], [4.0, 850000.0], [4.0, 825000.0], [3.0, 750000.0], [5.0, 357000.0], [3.0, 525000.0], [2.0, 601150.0], [3.0, 209950.0], [4.0, 345000.0], [5.0, 554000.0], [4.0, 1850000.0], [4.0, 329950.0], [3.0, 713400.0], [3.0, 625000.0], [5.0, 297000.0], [6.0, 465000.0], [3.0, 445000.0], [2.0, 370000.0], [3.0, 349000.0], [3.0, 257000.0], [3.0, 406500.0], [3.0, 349950.0], [4.0, 2700000.0], [3.0, 453000.0], [3.0, 480000.0], [4.0, 304000.0], [4.0, 545800.0], [3.0, 1400000.0], [4.0, 735000.0], [4.0, 349950.0], [3.0, 455000.0], [3.0, 235000.0], [2.0, 370000.0], [3.0, 295500.0], [4.0, 468000.0], [3.0, 775000.0], [3.0, 275000.0], [3.0, 685000.0], [3.0, 211000.0], [3.0, 672000.0], [5.0, 443000.0], [4.0, 1765000.0], [4.0, 1940000.0], [4.0, 411000.0], [3.0, 259000.0], [3.0, 500000.0], [3.0, 328423.0], [4.0, 304999.0], [3.0, 225000.0], [3.0, 489000.0], [3.0, 458000.0], [3.0, 299950.0], [3.0, 740000.0], [5.0, 856000.0], [3.0, 336900.0], [5.0, 795000.0], [2.0, 422000.0], [4.0, 970000.0], [3.0, 345000.0], [5.0, 630000.0], [4.0, 728000.0], [3.0, 525000.0], [3.0, 258000.0], [4.0, 272000.0], [4.0, 210000.0], [3.0, 216000.0], [3.0, 470000.0], [3.0, 357000.0], [3.0, 542000.0], [4.0, 735000.0], [1.0, 335000.0], [3.0, 443000.0], [3.0, 575000.0], [5.0, 599000.0], [4.0, 411000.0], [2.0, 285000.0], [4.0, 408500.0], [3.0, 317000.0], [3.0, 348125.0], [3.0, 880000.0], [4.0, 430000.0], [3.0, 425000.0], [5.0, 330000.0], [3.0, 475000.0], [5.0, 661500.0], [4.0, 215000.0], [5.0, 1300000.0], [3.0, 535000.0], [4.0, 720000.0], [4.0, 494000.0], [2.0, 200000.0], [4.0, 675000.0], [5.0, 490000.0], [3.0, 175000.0], [3.0, 447500.0], [4.0, 370000.0], [4.0, 640000.0], [3.0, 705640.0], [3.0, 350000.0], [4.0, 533000.0], [4.0, 790000.0], [3.0, 241250.0], [4.0, 720000.0], [4.0, 557000.0], [4.0, 639000.0], [3.0, 760750.0], [3.0, 418500.0], [4.0, 610000.0], [3.0, 690000.0], [4.0, 333000.0], [3.0, 227064.0], [4.0, 148900.0], [3.0, 260000.0], [3.0, 535000.0], [4.0, 526000.0], [3.0, 465000.0], [3.0, 498000.0], [2.0, 1010000.0], [2.0, 459500.0], [3.0, 675000.0], [4.0, 311000.0], [3.0, 375000.0], [6.0, 698000.0], [4.0, 910000.0], [4.0, 585000.0], [2.0, 311300.0], [7.0, 310000.0], [3.0, 925000.0], [5.0, 1400000.0], [4.0, 484259.0], [3.0, 750000.0], [2.0, 229800.0], [3.0, 634000.0], [3.0, 285000.0], [5.0, 525888.0], [4.0, 350000.0], [3.0, 830000.0], [3.0, 389950.0], [3.0, 335000.0], [4.0, 423000.0], [3.0, 512500.0], [3.0, 369000.0], [4.0, 1285000.0], [4.0, 682000.0], [5.0, 509500.0], [3.0, 495000.0], [3.0, 710000.0], [3.0, 299999.0], [5.0, 338000.0], [3.0, 540000.0], [3.0, 1049000.0], [4.0, 544300.0], [5.0, 744500.0], [3.0, 400000.0], [2.0, 386000.0], [4.0, 307999.0], [5.0, 768000.0], [3.0, 167000.0], [3.0, 455000.0], [1.0, 185000.0], [4.0, 675000.0], [3.0, 842500.0], [3.0, 325000.0], [2.0, 437000.0], [3.0, 595000.0], [3.0, 350000.0], [3.0, 1050000.0], [3.0, 619500.0], [3.0, 400000.0], [3.0, 796000.0], [4.0, 615000.0], [4.0, 580000.0], [3.0, 775000.0], [4.0, 285000.0], [3.0, 250000.0], [3.0, 792500.0], [5.0, 675000.0], [4.0, 323000.0], [4.0, 350000.0], [5.0, 1270000.0], [3.0, 1050000.0], [4.0, 910000.0], [4.0, 450000.0], [5.0, 850000.0], [5.0, 771005.0], [3.0, 299000.0], [3.0, 369900.0], [3.0, 713900.0], [4.0, 444900.0], [2.0, 458000.0], [4.0, 295500.0], [3.0, 550000.0], [11.0, 520000.0], [2.0, 505000.0], [4.0, 450000.0], [3.0, 286500.0], [3.0, 386100.0], [3.0, 667000.0], [3.0, 280000.0], [3.0, 724500.0], [4.0, 370000.0], [3.0, 310000.0], [4.0, 294400.0], [4.0, 238000.0], [3.0, 400000.0], [3.0, 485000.0], [3.0, 268000.0], [3.0, 240000.0], [3.0, 475000.0], [3.0, 525000.0], [4.0, 1190000.0], [3.0, 725000.0], [2.0, 518000.0], [3.0, 230000.0], [2.0, 230005.0], [2.0, 170000.0], [4.0, 537000.0], [4.0, 239000.0], [4.0, 619000.0], [2.0, 250000.0], [3.0, 599950.0], [4.0, 780000.0], [3.0, 599900.0], [2.0, 212625.0], [2.0, 260000.0], [5.0, 775000.0], [3.0, 180000.0], [3.0, 375000.0], [3.0, 765000.0], [3.0, 600000.0], [4.0, 499950.0], [5.0, 1850000.0], [4.0, 2546000.0], [3.0, 370000.0], [2.0, 115000.0], [3.0, 913000.0], [2.0, 368000.0], [3.0, 259000.0], [5.0, 380000.0], [3.0, 227500.0], [4.0, 464000.0], [4.0, 379950.0], [3.0, 225000.0], [3.0, 440000.0], [3.0, 310000.0], [4.0, 349000.0], [4.0, 630100.0], [3.0, 215000.0], [4.0, 499000.0], [3.0, 248000.0], [5.0, 420000.0], [3.0, 329000.0], [5.0, 330000.0], [3.0, 749000.0], [5.0, 640000.0], [6.0, 925850.0], [3.0, 705000.0], [4.0, 258000.0], [2.0, 350000.0], [3.0, 525000.0], [2.0, 457000.0], [3.0, 536000.0], [4.0, 635000.0], [6.0, 3650000.0], [4.0, 575000.0], [4.0, 410000.0], [3.0, 275000.0], [2.0, 304000.0], [3.0, 480000.0], [3.0, 300000.0], [5.0, 1000000.0], [2.0, 253000.0], [3.0, 955000.0], [3.0, 350000.0], [6.0, 510000.0], [3.0, 198000.0], [3.0, 268000.0], [4.0, 374500.0], [6.0, 376000.0], [5.0, 580000.0], [3.0, 275000.0], [4.0, 322000.0], [3.0, 250200.0], [3.0, 168500.0], [2.0, 320000.0], [4.0, 570000.0], [3.0, 753000.0], [3.0, 615000.0], [3.0, 606000.0], [4.0, 625000.0], [4.0, 479000.0], [3.0, 1070000.0], [4.0, 600000.0], [4.0, 463000.0], [4.0, 333000.0], [3.0, 452000.0], [4.0, 479900.0], [3.0, 625000.0], [3.0, 340000.0], [5.0, 480000.0], [4.0, 799000.0]], \"columns\": [{\"dtype\": \"str\", \"name\": \"id\"}, {\"dtype\": \"datetime\", \"name\": \"date\"}, {\"dtype\": \"float\", \"name\": \"price\"}, {\"dtype\": \"float\", \"name\": \"bedrooms\"}, {\"dtype\": \"float\", \"name\": \"bathrooms\"}, {\"dtype\": \"float\", \"name\": \"sqft_living\"}, {\"dtype\": \"int\", \"name\": \"sqft_lot\"}, {\"dtype\": \"str\", \"name\": \"floors\"}, {\"dtype\": \"int\", \"name\": \"waterfront\"}, {\"dtype\": \"int\", \"name\": \"view\"}, {\"dtype\": \"int\", \"name\": \"condition\"}, {\"dtype\": \"int\", \"name\": \"grade\"}, {\"dtype\": \"int\", \"name\": \"sqft_above\"}, {\"dtype\": \"int\", \"name\": \"sqft_basement\"}, {\"dtype\": \"int\", \"name\": \"yr_built\"}, {\"dtype\": \"int\", \"name\": \"yr_renovated\"}, {\"dtype\": \"str\", \"name\": \"zipcode\"}, {\"dtype\": \"float\", \"name\": \"lat\"}, {\"dtype\": \"float\", \"name\": \"long\"}, {\"dtype\": \"float\", \"name\": \"sqft_living15\"}, {\"dtype\": \"float\", \"name\": \"sqft_lot15\"}]}, e);\n",
       "                });\n",
       "            })();\n",
       "        "
      ]
     },
     "metadata": {},
     "output_type": "display_data"
    }
   ],
   "source": [
    "graphlab.canvas.set_target('ipynb')\n",
    "test_data.show(view=\"Scatter Plot\", x=\"bedrooms\", y=\"price\")"
   ]
  },
  {
   "cell_type": "code",
   "execution_count": 23,
   "metadata": {
    "collapsed": false
   },
   "outputs": [
    {
     "data": {
      "application/javascript": [
       "$(\"head\").append($(\"<link/>\").attr({\n",
       "  rel:  \"stylesheet\",\n",
       "  type: \"text/css\",\n",
       "  href: \"//cdnjs.cloudflare.com/ajax/libs/font-awesome/4.1.0/css/font-awesome.min.css\"\n",
       "}));\n",
       "$(\"head\").append($(\"<link/>\").attr({\n",
       "  rel:  \"stylesheet\",\n",
       "  type: \"text/css\",\n",
       "  href: \"https://static.turi.com/products/graphlab-create/2.1/canvas/css/canvas.css\"\n",
       "}));\n",
       "\n",
       "            (function(){\n",
       "\n",
       "                var e = null;\n",
       "                if (typeof element == 'undefined') {\n",
       "                    var scripts = document.getElementsByTagName('script');\n",
       "                    var thisScriptTag = scripts[scripts.length-1];\n",
       "                    var parentDiv = thisScriptTag.parentNode;\n",
       "                    e = document.createElement('div');\n",
       "                    parentDiv.appendChild(e);\n",
       "                } else {\n",
       "                    e = element[0];\n",
       "                }\n",
       "\n",
       "                if (typeof requirejs !== 'undefined') {\n",
       "                    // disable load timeout; ipython_app.js is large and can take a while to load.\n",
       "                    requirejs.config({waitSeconds: 0});\n",
       "                }\n",
       "\n",
       "                require(['https://static.turi.com/products/graphlab-create/2.1/canvas/js/ipython_app.js'], function(IPythonApp){\n",
       "                    var app = new IPythonApp();\n",
       "                    app.attachView('sframe','Plots', {\"selected_variable\": {\"name\": [\"test_data\"], \"descriptives\": {\"rows\": 4229, \"columns\": 21}, \"view_component\": \"Plots\", \"view_file\": \"sframe\", \"view_params\": {\"y\": \"price\", \"x\": \"sqft_living\", \"columns\": [\"id\", \"date\", \"price\", \"bedrooms\", \"bathrooms\", \"sqft_living\", \"sqft_lot\", \"floors\", \"waterfront\", \"view\", \"condition\", \"grade\", \"sqft_above\", \"sqft_basement\", \"yr_built\", \"yr_renovated\", \"zipcode\", \"lat\", \"long\", \"sqft_living15\", \"sqft_lot15\"], \"view\": \"Scatter Plot\"}, \"view_components\": [\"Summary\", \"Table\", \"Bar Chart\", \"BoxWhisker Plot\", \"Line Chart\", \"Scatter Plot\", \"Heat Map\", \"Plots\"], \"type\": \"SFrame\", \"columns\": [{\"dtype\": \"str\", \"name\": \"id\"}, {\"dtype\": \"datetime\", \"name\": \"date\"}, {\"dtype\": \"float\", \"name\": \"price\"}, {\"dtype\": \"float\", \"name\": \"bedrooms\"}, {\"dtype\": \"float\", \"name\": \"bathrooms\"}, {\"dtype\": \"float\", \"name\": \"sqft_living\"}, {\"dtype\": \"int\", \"name\": \"sqft_lot\"}, {\"dtype\": \"str\", \"name\": \"floors\"}, {\"dtype\": \"int\", \"name\": \"waterfront\"}, {\"dtype\": \"int\", \"name\": \"view\"}, {\"dtype\": \"int\", \"name\": \"condition\"}, {\"dtype\": \"int\", \"name\": \"grade\"}, {\"dtype\": \"int\", \"name\": \"sqft_above\"}, {\"dtype\": \"int\", \"name\": \"sqft_basement\"}, {\"dtype\": \"int\", \"name\": \"yr_built\"}, {\"dtype\": \"int\", \"name\": \"yr_renovated\"}, {\"dtype\": \"str\", \"name\": \"zipcode\"}, {\"dtype\": \"float\", \"name\": \"lat\"}, {\"dtype\": \"float\", \"name\": \"long\"}, {\"dtype\": \"float\", \"name\": \"sqft_living15\"}, {\"dtype\": \"float\", \"name\": \"sqft_lot15\"}], \"column_identifiers\": [\"bathrooms\", \"sqft_living15\", \"sqft_above\", \"grade\", \"yr_built\", \"price\", \"bedrooms\", \"zipcode\", \"long\", \"id\", \"sqft_lot15\", \"sqft_living\", \"floors\", \"sqft_lot\", \"date\", \"waterfront\", \"sqft_basement\", \"yr_renovated\", \"lat\", \"condition\", \"view\"]}, \"complete\": 1, \"ipython\": true, \"progress\": 1.0, \"data\": [[1210.0, 570000.0], [2950.0, 650000.0], [3850.0, 995000.0], [2320.0, 580500.0], [1090.0, 535000.0], [1080.0, 115000.0], [2130.0, 310000.0], [3780.0, 1175000.0], [2160.0, 530000.0], [3220.0, 1260000.0], [1540.0, 375000.0], [3370.0, 890000.0], [1540.0, 252000.0], [1780.0, 261000.0], [2030.0, 470000.0], [1500.0, 270000.0], [2910.0, 770000.0], [2060.0, 418500.0], [1900.0, 715000.0], [2490.0, 950000.0], [2550.0, 890000.0], [1890.0, 355000.0], [3280.0, 734500.0], [1510.0, 490000.0], [2680.0, 807100.0], [1930.0, 400000.0], [3010.0, 785000.0], [1820.0, 429900.0], [1110.0, 250000.0], [780.0, 200000.0], [1900.0, 407500.0], [5230.0, 3400000.0], [1350.0, 304500.0], [4140.0, 1400000.0], [1750.0, 279950.0], [2540.0, 759990.0], [1900.0, 230000.0], [1150.0, 200000.0], [1440.0, 250000.0], [1880.0, 423000.0], [1060.0, 420000.0], [4440.0, 1295000.0], [1790.0, 544000.0], [1800.0, 471001.0], [2960.0, 1161000.0], [1630.0, 165000.0], [3500.0, 780000.0], [2530.0, 354950.0], [2690.0, 760000.0], [1350.0, 190000.0], [1180.0, 209950.0], [2100.0, 485000.0], [4290.0, 1384000.0], [2660.0, 495000.0], [2090.0, 349950.0], [1010.0, 310000.0], [3100.0, 302500.0], [2880.0, 579950.0], [2250.0, 998800.0], [1830.0, 429950.0], [870.0, 435000.0], [2930.0, 559900.0], [2420.0, 279950.0], [1590.0, 339275.0], [1260.0, 194000.0], [2300.0, 612000.0], [2310.0, 334000.0], [2270.0, 855000.0], [2720.0, 910000.0], [1750.0, 420000.0], [2310.0, 400000.0], [1380.0, 329900.0], [3060.0, 835000.0], [2610.0, 1049000.0], [1080.0, 147400.0], [3366.0, 1300000.0], [1800.0, 272000.0], [2520.0, 1050000.0], [3320.0, 1800000.0], [1540.0, 345000.0], [1590.0, 225000.0], [2350.0, 449000.0], [1445.0, 355000.0], [3140.0, 925850.0], [710.0, 289000.0], [3510.0, 695000.0], [2200.0, 423000.0], [1160.0, 312000.0], [2190.0, 289950.0], [4040.0, 988000.0], [1140.0, 425000.0], [2100.0, 540000.0], [1300.0, 462000.0], [2370.0, 540000.0], [2320.0, 600000.0], [560.0, 90000.0], [1020.0, 210000.0], [1270.0, 410000.0], [1120.0, 205000.0], [630.0, 315000.0], [1400.0, 250000.0], [1489.0, 255900.0], [990.0, 269950.0], [1120.0, 365000.0], [1490.0, 625000.0], [1900.0, 476800.0], [3280.0, 925000.0], [2110.0, 1150000.0], [2095.0, 292500.0], [2650.0, 370000.0], [1890.0, 805000.0], [1040.0, 204000.0], [4460.0, 490000.0], [980.0, 307500.0], [1870.0, 275000.0], [2320.0, 318888.0], [4380.0, 1450000.0], [1130.0, 261500.0], [2230.0, 460000.0], [1320.0, 404500.0], [1190.0, 445000.0], [1830.0, 338900.0], [3230.0, 409000.0], [790.0, 198000.0], [1500.0, 379900.0], [860.0, 370000.0], [3828.0, 552900.0], [3110.0, 960000.0], [1330.0, 245000.0], [700.0, 340000.0], [4750.0, 2175000.0], [1340.0, 474905.0], [1790.0, 246950.0], [2050.0, 314500.0], [5840.0, 2200000.0], [1170.0, 459500.0], [3070.0, 550000.0], [1140.0, 269900.0], [1960.0, 500000.0], [2180.0, 488000.0], [1571.0, 366750.0], [1770.0, 215000.0], [1630.0, 464000.0], [3020.0, 575000.0], [1890.0, 525000.0], [1010.0, 347000.0], [1450.0, 243000.0], [960.0, 208000.0], [1470.0, 169000.0], [1370.0, 219000.0], [1440.0, 210000.0], [1520.0, 405000.0], [980.0, 128000.0], [2550.0, 543500.0], [1190.0, 290000.0], [2156.0, 347500.0], [1110.0, 406000.0], [3420.0, 965000.0], [2010.0, 650000.0], [2570.0, 492500.0], [1270.0, 335000.0], [2400.0, 856600.0], [1880.0, 541900.0], [2490.0, 824000.0], [2840.0, 779950.0], [2710.0, 715000.0], [2980.0, 675000.0], [1330.0, 175000.0], [1940.0, 232500.0], [3010.0, 745000.0], [1630.0, 422120.0], [2490.0, 749500.0], [2910.0, 1398000.0], [1710.0, 565000.0], [1150.0, 310000.0], [1680.0, 840000.0], [1890.0, 523460.0], [2280.0, 560000.0], [1160.0, 215000.0], [1120.0, 440000.0], [1650.0, 539900.0], [1420.0, 275000.0], [1700.0, 161000.0], [1150.0, 129000.0], [1940.0, 432500.0], [1450.0, 300000.0], [1880.0, 334950.0], [2990.0, 785000.0], [2100.0, 368000.0], [930.0, 141800.0], [1410.0, 205000.0], [1050.0, 400000.0], [1530.0, 500000.0], [3260.0, 552500.0], [2020.0, 253000.0], [5220.0, 1481000.0], [2370.0, 535950.0], [1730.0, 325000.0], [650.0, 129000.0], [2910.0, 525000.0], [2910.0, 312200.0], [1480.0, 439000.0], [740.0, 178500.0], [1520.0, 362500.0], [1750.0, 460000.0], [1330.0, 280000.0], [870.0, 271310.0], [1400.0, 419500.0], [1640.0, 242000.0], [1600.0, 218500.0], [1070.0, 346000.0], [3930.0, 575000.0], [2090.0, 400000.0], [1430.0, 399000.0], [1930.0, 716500.0], [1270.0, 235000.0], [2100.0, 335000.0], [1070.0, 325000.0], [1580.0, 375000.0], [2010.0, 310000.0], [1330.0, 375000.0], [1880.0, 435000.0], [1190.0, 276693.0], [720.0, 151000.0], [2330.0, 535000.0], [4140.0, 950000.0], [2280.0, 530000.0], [2960.0, 367000.0], [2540.0, 350900.0], [3030.0, 660000.0], [2610.0, 515000.0], [1070.0, 152000.0], [3130.0, 320000.0], [4400.0, 1050000.0], [3190.0, 795000.0], [2620.0, 550120.0], [890.0, 314963.0], [2430.0, 510000.0], [3010.0, 839950.0], [3230.0, 699000.0], [3140.0, 585000.0], [1520.0, 460000.0], [1170.0, 530000.0], [1710.0, 332544.0], [3000.0, 398950.0], [2690.0, 333000.0], [3790.0, 2200000.0], [1360.0, 235000.0], [2680.0, 463000.0], [1510.0, 310650.0], [3200.0, 337000.0], [3760.0, 1375000.0], [920.0, 255000.0], [3410.0, 720000.0], [1710.0, 211000.0], [3920.0, 918000.0], [790.0, 435000.0], [2340.0, 645000.0], [2810.0, 685000.0], [1270.0, 379950.0], [2270.0, 500000.0], [2000.0, 546000.0], [1510.0, 247000.0], [2010.0, 430000.0], [2150.0, 609000.0], [2290.0, 530000.0], [1320.0, 445800.0], [2350.0, 747500.0], [2650.0, 1008000.0], [2950.0, 530000.0], [3230.0, 1075000.0], [2550.0, 512000.0], [700.0, 199950.0], [2430.0, 690000.0], [1630.0, 740000.0], [2620.0, 535000.0], [2040.0, 506000.0], [1380.0, 322000.0], [2060.0, 264500.0], [1370.0, 548000.0], [1500.0, 270000.0], [2820.0, 810000.0], [2350.0, 770000.0], [2870.0, 690700.0], [2790.0, 1131000.0], [1360.0, 255000.0], [1300.0, 244500.0], [2500.0, 336500.0], [1860.0, 427000.0], [1890.0, 506500.0], [1240.0, 259000.0], [2980.0, 690000.0], [2584.0, 429900.0], [1900.0, 485000.0], [1480.0, 290000.0], [3570.0, 910000.0], [1070.0, 147000.0], [1560.0, 273000.0], [1760.0, 715000.0], [670.0, 390000.0], [2130.0, 325000.0], [660.0, 250000.0], [1680.0, 525000.0], [1500.0, 707500.0], [1790.0, 414000.0], [3340.0, 1328000.0], [3420.0, 548000.0], [970.0, 425000.0], [1630.0, 375000.0], [3140.0, 765000.0], [1480.0, 560000.0], [4020.0, 900000.0], [970.0, 170000.0], [2095.0, 670000.0], [2000.0, 320000.0], [2910.0, 925000.0], [1350.0, 450000.0], [3900.0, 650000.0], [2910.0, 450000.0], [6530.0, 1600000.0], [2580.0, 787888.0], [1460.0, 685000.0], [2420.0, 445000.0], [2400.0, 335750.0], [1920.0, 443500.0], [2820.0, 461500.0], [2140.0, 589999.0], [2710.0, 442500.0], [1680.0, 450000.0], [2700.0, 810000.0], [880.0, 210000.0], [1800.0, 449950.0], [2500.0, 895000.0], [1730.0, 258000.0], [2340.0, 570000.0], [2300.0, 579000.0], [3600.0, 1350000.0], [2380.0, 415000.0], [1890.0, 325000.0], [2120.0, 720000.0], [3510.0, 1370000.0], [790.0, 315000.0], [1300.0, 365000.0], [720.0, 335000.0], [1060.0, 505000.0], [2040.0, 542500.0], [1080.0, 205000.0], [1890.0, 826000.0], [2220.0, 470000.0], [1140.0, 467000.0], [1660.0, 315000.0], [3890.0, 1185000.0], [1740.0, 340000.0], [3690.0, 440000.0], [910.0, 605000.0], [4580.0, 2900000.0], [2570.0, 635000.0], [1980.0, 615000.0], [1510.0, 530000.0], [2180.0, 473000.0], [950.0, 469000.0], [1440.0, 328000.0], [1160.0, 459000.0], [3087.0, 399950.0], [1930.0, 550000.0], [770.0, 275000.0], [2600.0, 330000.0], [2100.0, 640000.0], [1470.0, 650000.0], [2270.0, 500000.0], [5540.0, 2630000.0], [2260.0, 453250.0], [1300.0, 501000.0], [2360.0, 753000.0], [2500.0, 806000.0], [1060.0, 335000.0], [1580.0, 249000.0], [1740.0, 580000.0], [1860.0, 445000.0], [1970.0, 289000.0], [1365.0, 530000.0], [1010.0, 225000.0], [2100.0, 207000.0], [1350.0, 388500.0], [1980.0, 545800.0], [1950.0, 449999.0], [1490.0, 835000.0], [1150.0, 354500.0], [2250.0, 325000.0], [1450.0, 375000.0], [5774.0, 740000.0], [1800.0, 380000.0], [1720.0, 493000.0], [1080.0, 140000.0], [2460.0, 995000.0], [2850.0, 1600000.0], [1670.0, 490000.0], [660.0, 385000.0], [2950.0, 386500.0], [3210.0, 399950.0], [2600.0, 252500.0], [1740.0, 299950.0], [3280.0, 605000.0], [1220.0, 253500.0], [2060.0, 509500.0], [1560.0, 368000.0], [2310.0, 327500.0], [1300.0, 249000.0], [1520.0, 314950.0], [2420.0, 429000.0], [3000.0, 887000.0], [1600.0, 270000.0], [1000.0, 410988.0], [1210.0, 219950.0], [3610.0, 870000.0], [2470.0, 773000.0], [1280.0, 195000.0], [1690.0, 297000.0], [2680.0, 575000.0], [2800.0, 426000.0], [1200.0, 227000.0], [1850.0, 515000.0], [1190.0, 475000.0], [2410.0, 767500.0], [1560.0, 598500.0], [2380.0, 570000.0], [2070.0, 1250000.0], [2030.0, 618080.0], [2050.0, 770000.0], [3380.0, 600000.0], [3040.0, 870000.0], [1660.0, 530000.0], [3870.0, 600000.0], [2850.0, 750000.0], [1840.0, 286500.0], [2460.0, 678500.0], [1200.0, 375000.0], [3130.0, 598000.0], [1300.0, 440000.0], [1860.0, 280000.0], [1460.0, 570000.0], [2310.0, 890000.0], [3130.0, 649000.0], [1590.0, 285000.0], [1320.0, 275000.0], [3500.0, 788600.0], [1420.0, 485000.0], [2310.0, 422000.0], [1310.0, 365000.0], [1680.0, 440000.0], [840.0, 308500.0], [1230.0, 425000.0], [1780.0, 654500.0], [1530.0, 536000.0], [1930.0, 733000.0], [1760.0, 680000.0], [1300.0, 235000.0], [1880.0, 389800.0], [1120.0, 335900.0], [1940.0, 359000.0], [1850.0, 280017.0], [2570.0, 625700.0], [1760.0, 647500.0], [2160.0, 429000.0], [3480.0, 852500.0], [1070.0, 361500.0], [3240.0, 609000.0], [1760.0, 554000.0], [2120.0, 1320000.0], [670.0, 175000.0], [1220.0, 483000.0], [1690.0, 285000.0], [1170.0, 302000.0], [2220.0, 1101000.0], [1050.0, 310000.0], [1560.0, 400000.0], [2770.0, 470000.0], [2400.0, 592000.0], [1900.0, 305000.0], [1960.0, 449000.0], [950.0, 325000.0], [1690.0, 207000.0], [1060.0, 354000.0], [3240.0, 724500.0], [2420.0, 370000.0], [1590.0, 255000.0], [1380.0, 560000.0], [3480.0, 590000.0], [1240.0, 405000.0], [670.0, 240000.0], [1640.0, 505000.0], [2740.0, 779000.0], [1970.0, 425500.0], [1770.0, 200000.0], [1620.0, 525000.0], [1290.0, 265000.0], [1010.0, 270000.0], [3960.0, 1220000.0], [1640.0, 299999.0], [880.0, 208500.0], [1320.0, 294000.0], [910.0, 405000.0], [1630.0, 249000.0], [710.0, 345000.0], [1800.0, 508000.0], [1560.0, 269000.0], [2400.0, 590000.0], [2150.0, 355000.0], [3760.0, 555000.0], [2390.0, 330000.0], [1440.0, 465000.0], [1630.0, 265000.0], [1460.0, 309950.0], [720.0, 150000.0], [2560.0, 655000.0], [2650.0, 425000.0], [3900.0, 1650000.0], [1160.0, 330000.0], [1250.0, 212000.0], [1270.0, 406000.0], [1200.0, 245000.0], [1860.0, 338000.0], [910.0, 455000.0], [1880.0, 565000.0], [2670.0, 669950.0], [1470.0, 602000.0], [2410.0, 520000.0], [3350.0, 1000000.0], [1000.0, 352500.0], [1350.0, 400000.0], [1210.0, 500000.0], [1710.0, 488500.0], [2250.0, 589000.0], [960.0, 332000.0], [910.0, 200000.0], [3010.0, 728725.0], [1520.0, 530000.0], [2660.0, 523000.0], [1670.0, 697000.0], [1750.0, 456150.0], [1840.0, 265000.0], [1240.0, 471000.0], [2080.0, 357500.0], [2330.0, 420000.0], [3260.0, 755000.0], [2440.0, 769000.0], [1740.0, 410000.0], [1890.0, 298500.0], [1970.0, 379950.0], [2310.0, 651100.0], [1820.0, 455850.0], [1680.0, 625000.0], [2970.0, 726000.0], [1940.0, 685000.0], [2520.0, 420000.0], [1120.0, 329000.0], [1990.0, 359000.0], [1660.0, 412000.0], [2732.0, 480000.0], [4410.0, 1625000.0], [2250.0, 440000.0], [2520.0, 415000.0], [1640.0, 190000.0], [4050.0, 1288000.0], [1170.0, 145600.0], [1920.0, 429000.0], [840.0, 355000.0], [1540.0, 257000.0], [1530.0, 220000.0], [1600.0, 220000.0], [1470.0, 435000.0], [2760.0, 424950.0], [3850.0, 1200000.0], [3190.0, 359500.0], [1090.0, 425000.0], [1110.0, 249000.0], [980.0, 575000.0], [2600.0, 510000.0], [1690.0, 705000.0], [1960.0, 180000.0], [2670.0, 685000.0], [1180.0, 435000.0], [3070.0, 850000.0], [2720.0, 690000.0], [1420.0, 579950.0], [1270.0, 259000.0], [2800.0, 915000.0], [2260.0, 648360.0], [1630.0, 246000.0], [2610.0, 754950.0], [1380.0, 350000.0], [2880.0, 362000.0], [2040.0, 350000.0], [1460.0, 427000.0], [1560.0, 500000.0], [1690.0, 498000.0], [720.0, 275500.0], [2190.0, 367300.0], [1810.0, 585000.0], [2250.0, 765000.0], [2130.0, 802000.0], [1480.0, 200000.0], [2150.0, 639000.0], [1830.0, 410000.0], [1320.0, 540000.0], [2420.0, 752888.0], [4440.0, 1970000.0], [2730.0, 310000.0], [1500.0, 265000.0], [1470.0, 459500.0], [2340.0, 360000.0], [2280.0, 535000.0], [2120.0, 329950.0], [1710.0, 380000.0], [2350.0, 462500.0], [1080.0, 210000.0], [3510.0, 695000.0], [950.0, 162950.0], [1670.0, 483500.0], [2570.0, 254500.0], [1080.0, 192500.0], [990.0, 442000.0], [1750.0, 279000.0], [800.0, 195000.0], [1610.0, 249900.0], [2240.0, 805000.0], [1570.0, 195000.0], [1160.0, 700000.0], [2420.0, 332000.0], [2510.0, 600000.0], [2090.0, 400000.0], [2350.0, 1195000.0], [1550.0, 440000.0], [1030.0, 210000.0], [1220.0, 249900.0], [2610.0, 608000.0], [1730.0, 465000.0], [2150.0, 580000.0], [1160.0, 453000.0], [2220.0, 410000.0], [1370.0, 605004.0], [2070.0, 503000.0], [2400.0, 499000.0], [2410.0, 1321625.0], [1530.0, 418000.0], [1220.0, 280500.0], [1630.0, 464000.0], [2210.0, 500000.0], [2070.0, 250000.0], [1740.0, 257000.0], [3980.0, 1765000.0], [3600.0, 875000.0], [1380.0, 457000.0], [2770.0, 711000.0], [4590.0, 1135000.0], [610.0, 126000.0], [5150.0, 1378000.0], [1900.0, 541500.0], [3050.0, 563950.0], [880.0, 330000.0], [1440.0, 390000.0], [3800.0, 630000.0], [1190.0, 555000.0], [2990.0, 1110000.0], [1030.0, 345000.0], [1020.0, 441750.0], [3180.0, 340000.0], [1570.0, 835000.0], [810.0, 253500.0], [2480.0, 1013050.0], [1290.0, 494000.0], [1440.0, 337000.0], [1590.0, 210000.0], [1760.0, 579000.0], [2430.0, 449500.0], [2330.0, 473975.0], [3050.0, 740000.0], [1700.0, 245000.0], [1080.0, 124000.0], [1350.0, 237500.0], [3130.0, 500000.0], [1260.0, 216000.0], [1540.0, 485000.0], [1650.0, 525000.0], [2420.0, 376000.0], [3020.0, 955000.0], [2310.0, 727160.0], [2280.0, 395000.0], [2440.0, 700000.0], [1280.0, 170000.0], [1980.0, 295000.0], [3370.0, 713900.0], [2250.0, 559000.0], [2260.0, 514000.0], [1410.0, 225000.0], [1860.0, 967000.0], [1900.0, 658500.0], [1910.0, 435000.0], [2320.0, 1070000.0], [4520.0, 1250000.0], [3440.0, 610000.0], [1860.0, 510000.0], [1570.0, 299950.0], [4450.0, 1300000.0], [2810.0, 745000.0], [1270.0, 540000.0], [650.0, 295000.0], [1910.0, 650000.0], [1800.0, 875000.0], [2410.0, 610000.0], [3210.0, 889000.0], [2170.0, 913000.0], [1990.0, 328000.0], [1950.0, 484000.0], [1530.0, 458950.0], [2450.0, 525000.0], [1000.0, 286300.0], [2020.0, 356000.0], [3160.0, 589900.0], [1340.0, 349000.0], [1340.0, 376000.0], [2970.0, 715000.0], [2830.0, 518000.0], [1260.0, 335000.0], [2460.0, 579950.0], [1820.0, 350000.0], [1410.0, 295832.0], [1370.0, 368000.0], [3206.0, 375000.0], [1920.0, 652000.0], [1520.0, 640000.0], [840.0, 360000.0], [5450.0, 3418800.0], [1630.0, 426000.0], [890.0, 169000.0], [1320.0, 422000.0], [2190.0, 700000.0], [2130.0, 233000.0], [1752.0, 249000.0], [3440.0, 550000.0], [3150.0, 330000.0], [2350.0, 650000.0], [2500.0, 411000.0], [970.0, 209950.0], [1300.0, 560000.0], [2820.0, 350000.0], [2270.0, 292000.0], [2320.0, 370000.0], [2060.0, 700000.0], [2500.0, 525000.0], [4410.0, 1437500.0], [2120.0, 531000.0], [3620.0, 856000.0], [2420.0, 649950.0], [960.0, 255000.0], [930.0, 300000.0], [1050.0, 219000.0], [2170.0, 419000.0], [2070.0, 372000.0], [3030.0, 879000.0], [1180.0, 207000.0], [1320.0, 243000.0], [2660.0, 580000.0], [2038.0, 319950.0], [1020.0, 160000.0], [1450.0, 357500.0], [2210.0, 240000.0], [990.0, 246000.0], [770.0, 248000.0], [2620.0, 680000.0], [720.0, 210000.0], [2230.0, 770000.0], [930.0, 105500.0], [1690.0, 500000.0], [840.0, 220000.0], [1540.0, 439950.0], [1140.0, 716000.0], [2460.0, 965000.0], [1890.0, 825000.0], [1790.0, 509900.0], [2870.0, 540000.0], [1010.0, 165000.0], [1590.0, 405000.0], [1820.0, 469950.0], [2000.0, 330000.0], [1680.0, 629950.0], [1315.0, 347000.0], [2300.0, 453500.0], [1490.0, 289999.0], [1680.0, 540000.0], [2240.0, 700000.0], [1150.0, 445000.0], [1350.0, 389000.0], [2110.0, 460000.0], [2180.0, 570000.0], [2420.0, 600000.0], [2530.0, 785950.0], [2730.0, 350000.0], [2240.0, 440000.0], [2240.0, 975000.0], [1610.0, 270000.0], [1180.0, 355000.0], [1788.0, 294400.0], [1440.0, 203000.0], [2510.0, 395000.0], [1940.0, 525000.0], [2031.0, 335000.0], [860.0, 316000.0], [4030.0, 1312000.0], [1570.0, 227064.0], [1590.0, 463000.0], [2120.0, 386000.0], [1470.0, 290000.0], [1180.0, 289900.0], [2050.0, 299000.0], [1050.0, 285000.0], [2280.0, 626100.0], [1450.0, 355000.0], [3480.0, 810000.0], [1130.0, 207000.0], [1260.0, 300000.0], [2170.0, 551000.0], [2210.0, 510000.0], [1790.0, 472500.0], [1560.0, 625000.0], [1080.0, 345000.0], [1200.0, 389000.0], [1140.0, 476000.0], [3300.0, 1105000.0], [1600.0, 280000.0], [2180.0, 625000.0], [1200.0, 232000.0], [1800.0, 399000.0], [1930.0, 273000.0], [2050.0, 790000.0], [1850.0, 565000.0], [1230.0, 393500.0], [2700.0, 385000.0], [1730.0, 423000.0], [3050.0, 585000.0], [1050.0, 414500.0], [1340.0, 303000.0], [3400.0, 715000.0], [1730.0, 379260.0], [1790.0, 346000.0], [1880.0, 710000.0], [1260.0, 665000.0], [2310.0, 685000.0], [4140.0, 2400000.0], [1910.0, 300000.0], [1170.0, 192950.0], [1430.0, 198000.0], [1130.0, 316000.0], [1620.0, 386000.0], [1720.0, 450000.0], [2840.0, 339000.0], [1660.0, 209950.0], [1360.0, 329950.0], [1190.0, 240000.0], [3890.0, 1080000.0], [2900.0, 850000.0], [3600.0, 870515.0], [1740.0, 280000.0], [1520.0, 499950.0], [2530.0, 875000.0], [3250.0, 1050000.0], [4000.0, 771005.0], [2860.0, 1315000.0], [1980.0, 796000.0], [1390.0, 341000.0], [1270.0, 425000.0], [3210.0, 565000.0], [2850.0, 650000.0], [2060.0, 541338.0], [2480.0, 630000.0], [3240.0, 812000.0], [1750.0, 716528.0], [2170.0, 260000.0], [1480.0, 280000.0], [2810.0, 999000.0], [1230.0, 479000.0], [3220.0, 950968.0], [920.0, 203000.0], [2980.0, 950000.0], [3020.0, 775000.0], [1140.0, 374000.0], [2540.0, 317500.0], [1400.0, 348125.0], [1670.0, 450000.0], [1630.0, 541000.0], [3560.0, 1160000.0], [2060.0, 457000.0], [2100.0, 500000.0], [1860.0, 450000.0], [770.0, 407500.0], [1790.0, 603000.0], [1920.0, 340000.0], [3110.0, 730000.0], [2500.0, 350000.0], [2280.0, 570000.0], [1240.0, 375000.0], [1020.0, 152275.0], [2100.0, 211000.0], [1520.0, 430000.0], [4230.0, 847700.0], [2940.0, 950000.0], [1390.0, 657100.0], [1280.0, 422250.0], [4660.0, 760000.0], [770.0, 407500.0], [2920.0, 1250000.0], [2130.0, 539000.0], [2570.0, 495000.0], [2440.0, 550000.0], [1270.0, 765000.0], [1770.0, 375000.0], [1660.0, 449000.0], [1940.0, 540000.0], [840.0, 105000.0], [2770.0, 700000.0], [1450.0, 465000.0], [2605.0, 599900.0], [2870.0, 646000.0], [1830.0, 433000.0], [1860.0, 775000.0], [1120.0, 266000.0], [1550.0, 537000.0], [1370.0, 252000.0], [1930.0, 700000.0], [3000.0, 1688000.0], [2670.0, 415000.0], [1330.0, 205500.0], [1720.0, 498000.0], [1830.0, 468000.0], [2120.0, 470000.0], [3070.0, 825000.0], [1390.0, 259000.0], [1370.0, 667000.0], [1540.0, 227500.0], [1740.0, 550000.0], [1910.0, 650000.0], [1790.0, 437500.0], [2220.0, 435000.0], [1730.0, 335000.0], [1200.0, 219000.0], [1840.0, 301000.0], [1880.0, 306000.0], [1350.0, 233000.0], [1090.0, 149000.0], [1720.0, 220000.0], [1833.0, 719000.0], [2050.0, 760000.0], [2340.0, 677500.0], [1390.0, 345000.0], [2890.0, 825000.0], [1370.0, 168000.0], [1910.0, 565000.0], [1670.0, 612125.0], [960.0, 345000.0], [2500.0, 350000.0], [1870.0, 832500.0], [3220.0, 763000.0], [4140.0, 810000.0], [1530.0, 338000.0], [1690.0, 440000.0], [2730.0, 1030000.0], [3360.0, 329999.0], [2382.0, 345000.0], [670.0, 183000.0], [1820.0, 475000.0], [4260.0, 3400000.0], [1770.0, 320900.0], [1400.0, 340000.0], [1420.0, 335000.0], [2050.0, 300000.0], [2120.0, 582000.0], [3030.0, 790000.0], [2340.0, 545000.0], [2650.0, 549950.0], [1940.0, 635000.0], [960.0, 374500.0], [1020.0, 350000.0], [1600.0, 325000.0], [1670.0, 204700.0], [2360.0, 392000.0], [1950.0, 430000.0], [1670.0, 456000.0], [2200.0, 295000.0], [1110.0, 600000.0], [4270.0, 997950.0], [1200.0, 249000.0], [3270.0, 600000.0], [5990.0, 1525000.0], [1240.0, 645000.0], [2750.0, 795000.0], [1820.0, 500007.0], [1280.0, 552000.0], [1200.0, 222400.0], [2270.0, 656000.0], [1400.0, 214950.0]], \"columns\": [{\"dtype\": \"str\", \"name\": \"id\"}, {\"dtype\": \"datetime\", \"name\": \"date\"}, {\"dtype\": \"float\", \"name\": \"price\"}, {\"dtype\": \"float\", \"name\": \"bedrooms\"}, {\"dtype\": \"float\", \"name\": \"bathrooms\"}, {\"dtype\": \"float\", \"name\": \"sqft_living\"}, {\"dtype\": \"int\", \"name\": \"sqft_lot\"}, {\"dtype\": \"str\", \"name\": \"floors\"}, {\"dtype\": \"int\", \"name\": \"waterfront\"}, {\"dtype\": \"int\", \"name\": \"view\"}, {\"dtype\": \"int\", \"name\": \"condition\"}, {\"dtype\": \"int\", \"name\": \"grade\"}, {\"dtype\": \"int\", \"name\": \"sqft_above\"}, {\"dtype\": \"int\", \"name\": \"sqft_basement\"}, {\"dtype\": \"int\", \"name\": \"yr_built\"}, {\"dtype\": \"int\", \"name\": \"yr_renovated\"}, {\"dtype\": \"str\", \"name\": \"zipcode\"}, {\"dtype\": \"float\", \"name\": \"lat\"}, {\"dtype\": \"float\", \"name\": \"long\"}, {\"dtype\": \"float\", \"name\": \"sqft_living15\"}, {\"dtype\": \"float\", \"name\": \"sqft_lot15\"}]}, e);\n",
       "                });\n",
       "            })();\n",
       "        "
      ]
     },
     "metadata": {},
     "output_type": "display_data"
    }
   ],
   "source": [
    "test_data.show(view=\"Scatter Plot\", x=\"sqft_living\", y=\"price\")"
   ]
  },
  {
   "cell_type": "code",
   "execution_count": 24,
   "metadata": {
    "collapsed": true
   },
   "outputs": [],
   "source": [
    "import matplotlib.pyplot as plt\n",
    "%matplotlib inline"
   ]
  },
  {
   "cell_type": "code",
   "execution_count": 26,
   "metadata": {
    "collapsed": false
   },
   "outputs": [
    {
     "data": {
      "text/plain": [
       "[<matplotlib.lines.Line2D at 0x11c3cd850>,\n",
       " <matplotlib.lines.Line2D at 0x11c3cd910>]"
      ]
     },
     "execution_count": 26,
     "metadata": {},
     "output_type": "execute_result"
    },
    {
     "data": {
      "image/png": "[encoded data removed]",
      "text/plain": [
       "<matplotlib.figure.Figure at 0x11b5d3550>"
      ]
     },
     "metadata": {},
     "output_type": "display_data"
    }
   ],
   "source": [
    "plt.plot(test_data['bedrooms'], test_data['price'],'.',test_data['bedrooms'],get_regression_predictions(test_data['bedrooms'], bedrooms_intercept, bedrooms_slope),'-')"
   ]
  },
  {
   "cell_type": "code",
   "execution_count": 27,
   "metadata": {
    "collapsed": false
   },
   "outputs": [
    {
     "data": {
      "text/plain": [
       "[<matplotlib.lines.Line2D at 0x11c9ce190>,\n",
       " <matplotlib.lines.Line2D at 0x11c9ce250>]"
      ]
     },
     "execution_count": 27,
     "metadata": {},
     "output_type": "execute_result"
    },
    {
     "data": {
      "image/png": "[encoded data removed]",
      "text/plain": [
       "<matplotlib.figure.Figure at 0x11b7b2210>"
      ]
     },
     "metadata": {},
     "output_type": "display_data"
    }
   ],
   "source": [
    "plt.plot(test_data['sqft_living'], test_data['price'],'.',test_data['sqft_living'],get_regression_predictions(test_data['sqft_living'],sqft_intercept, sqft_slope),'-')"
   ]
  },
  {
   "cell_type": "code",
   "execution_count": null,
   "metadata": {
    "collapsed": true
   },
   "outputs": [],
   "source": []
  }
 ],
 "metadata": {
  "kernelspec": {
   "display_name": "Python 2",
   "language": "python",
   "name": "python2"
  },
  "language_info": {
   "codemirror_mode": {
    "name": "ipython",
    "version": 2
   },
   "file_extension": ".py",
   "mimetype": "text/x-python",
   "name": "python",
   "nbconvert_exporter": "python",
   "pygments_lexer": "ipython2",
   "version": "2.7.11"
  }
 },
 "nbformat": 4,
 "nbformat_minor": 0
}
